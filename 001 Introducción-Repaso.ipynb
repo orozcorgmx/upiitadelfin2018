{
 "cells": [
  {
   "cell_type": "markdown",
   "metadata": {},
   "source": [
    "# Introducción a Algoritmos Supervisados de Machine Learning\n",
    "** Guillermo Orozco - *@orozcorgmx* **\n",
    "\n",
    "## Conceptos básicos de Machine Learning\n",
    "\n",
    "Antes de comenzar a estudiar los algoritmos supervisados, haremos un repaso por algunos conceptos básicos, como los tipos de variables, correlación y algunas bibliotecas que se ocupan de forma común en el análisis de datos.\n",
    "\n",
    "### Bibliotecas de Python en el análsis de datos\n",
    "\n",
    "Existen cuatro bibliotecas básicas más usadas en el análisis de datos que son las que se usarán durante este curso:\n",
    "1. NumPy\n",
    "2. SciPy\n",
    "3. Matplotlib\n",
    "4. Pandas\n",
    "\n",
    "### NumPy\n",
    "\n",
    "Es la biblioteca para cómputo científico de Python, provee herramientas para trabajar con arreglos multidimensionales. En este curso sólo se verán algunas herramientas básicas cuando sea necesario, para una referencia completa vea las [Referencias de NumPy](https://docs.scipy.org/doc/numpy/reference/) provee una excelente referencia.\n",
    "\n",
    "### Pandas\n",
    "\n",
    "Pandas es una biblioteca que provee estructuras para trabajar con datos relacionales o \"Etiquetados\" de manera facil e intuitiva. Pandas introduce los ***DataFrame*** que es un objeto bidimensional similar a una hoja de cálculo o una tabla SQL. a partir de aquí veremos cómo se usa pandas desarrollando varios ejemplos."
   ]
  },
  {
   "cell_type": "code",
   "execution_count": 1,
   "metadata": {},
   "outputs": [
    {
     "data": {
      "text/html": [
       "<div>\n",
       "<style scoped>\n",
       "    .dataframe tbody tr th:only-of-type {\n",
       "        vertical-align: middle;\n",
       "    }\n",
       "\n",
       "    .dataframe tbody tr th {\n",
       "        vertical-align: top;\n",
       "    }\n",
       "\n",
       "    .dataframe thead th {\n",
       "        text-align: right;\n",
       "    }\n",
       "</style>\n",
       "<table border=\"1\" class=\"dataframe\">\n",
       "  <thead>\n",
       "    <tr style=\"text-align: right;\">\n",
       "      <th></th>\n",
       "      <th>Hours_Studied</th>\n",
       "      <th>Test_Grade</th>\n",
       "    </tr>\n",
       "  </thead>\n",
       "  <tbody>\n",
       "    <tr>\n",
       "      <th>0</th>\n",
       "      <td>2</td>\n",
       "      <td>57</td>\n",
       "    </tr>\n",
       "    <tr>\n",
       "      <th>1</th>\n",
       "      <td>3</td>\n",
       "      <td>66</td>\n",
       "    </tr>\n",
       "    <tr>\n",
       "      <th>2</th>\n",
       "      <td>4</td>\n",
       "      <td>73</td>\n",
       "    </tr>\n",
       "  </tbody>\n",
       "</table>\n",
       "</div>"
      ],
      "text/plain": [
       "   Hours_Studied  Test_Grade\n",
       "0              2          57\n",
       "1              3          66\n",
       "2              4          73"
      ]
     },
     "execution_count": 1,
     "metadata": {},
     "output_type": "execute_result"
    }
   ],
   "source": [
    "#Importamos Pandas\n",
    "import pandas as pd\n",
    "\n",
    "#leemos un archivo CSV\n",
    "df=pd.read_csv('./datasets/StudentsStudied.csv')\n",
    "\n",
    "#Mostramos las primeras líneas del archivo CSV en este caso, las primeras 3\n",
    "df.head(n=3)"
   ]
  },
  {
   "cell_type": "markdown",
   "metadata": {},
   "source": [
    "#### Función describe()\n",
    "Esta función nos muestra las siguientes estadísticas básicas de nuestro archivo:\n",
    "* Conteo\n",
    "* Promedio\n",
    "* Desviación estandard\n",
    "* Mínimo\n",
    "* Primer Cuartil\n",
    "* Mediana\n",
    "* Tercer cuartil\n",
    "* Máximo"
   ]
  },
  {
   "cell_type": "code",
   "execution_count": 2,
   "metadata": {
    "scrolled": true
   },
   "outputs": [
    {
     "data": {
      "text/html": [
       "<div>\n",
       "<style scoped>\n",
       "    .dataframe tbody tr th:only-of-type {\n",
       "        vertical-align: middle;\n",
       "    }\n",
       "\n",
       "    .dataframe tbody tr th {\n",
       "        vertical-align: top;\n",
       "    }\n",
       "\n",
       "    .dataframe thead th {\n",
       "        text-align: right;\n",
       "    }\n",
       "</style>\n",
       "<table border=\"1\" class=\"dataframe\">\n",
       "  <thead>\n",
       "    <tr style=\"text-align: right;\">\n",
       "      <th></th>\n",
       "      <th>Hours_Studied</th>\n",
       "      <th>Test_Grade</th>\n",
       "    </tr>\n",
       "  </thead>\n",
       "  <tbody>\n",
       "    <tr>\n",
       "      <th>count</th>\n",
       "      <td>9.000000</td>\n",
       "      <td>9.000000</td>\n",
       "    </tr>\n",
       "    <tr>\n",
       "      <th>mean</th>\n",
       "      <td>6.000000</td>\n",
       "      <td>79.777778</td>\n",
       "    </tr>\n",
       "    <tr>\n",
       "      <th>std</th>\n",
       "      <td>2.738613</td>\n",
       "      <td>13.908431</td>\n",
       "    </tr>\n",
       "    <tr>\n",
       "      <th>min</th>\n",
       "      <td>2.000000</td>\n",
       "      <td>57.000000</td>\n",
       "    </tr>\n",
       "    <tr>\n",
       "      <th>25%</th>\n",
       "      <td>4.000000</td>\n",
       "      <td>73.000000</td>\n",
       "    </tr>\n",
       "    <tr>\n",
       "      <th>50%</th>\n",
       "      <td>6.000000</td>\n",
       "      <td>79.000000</td>\n",
       "    </tr>\n",
       "    <tr>\n",
       "      <th>75%</th>\n",
       "      <td>8.000000</td>\n",
       "      <td>90.000000</td>\n",
       "    </tr>\n",
       "    <tr>\n",
       "      <th>max</th>\n",
       "      <td>10.000000</td>\n",
       "      <td>100.000000</td>\n",
       "    </tr>\n",
       "  </tbody>\n",
       "</table>\n",
       "</div>"
      ],
      "text/plain": [
       "       Hours_Studied  Test_Grade\n",
       "count       9.000000    9.000000\n",
       "mean        6.000000   79.777778\n",
       "std         2.738613   13.908431\n",
       "min         2.000000   57.000000\n",
       "25%         4.000000   73.000000\n",
       "50%         6.000000   79.000000\n",
       "75%         8.000000   90.000000\n",
       "max        10.000000  100.000000"
      ]
     },
     "execution_count": 2,
     "metadata": {},
     "output_type": "execute_result"
    }
   ],
   "source": [
    "df.describe()"
   ]
  },
  {
   "cell_type": "markdown",
   "metadata": {},
   "source": [
    "#### Función cov()\n",
    "La covarianza indica cómo se relacionan dos variables. Una covarianza positiva significa que las variables están relacionadas positivamente, mientras que una covarianza negativa significa que las variables están inversamente relacionadas. El inconveniente de la covarianza es que no informa el grado de relación positiva o negativa"
   ]
  },
  {
   "cell_type": "code",
   "execution_count": 3,
   "metadata": {
    "scrolled": true
   },
   "outputs": [
    {
     "data": {
      "text/html": [
       "<div>\n",
       "<style scoped>\n",
       "    .dataframe tbody tr th:only-of-type {\n",
       "        vertical-align: middle;\n",
       "    }\n",
       "\n",
       "    .dataframe tbody tr th {\n",
       "        vertical-align: top;\n",
       "    }\n",
       "\n",
       "    .dataframe thead th {\n",
       "        text-align: right;\n",
       "    }\n",
       "</style>\n",
       "<table border=\"1\" class=\"dataframe\">\n",
       "  <thead>\n",
       "    <tr style=\"text-align: right;\">\n",
       "      <th></th>\n",
       "      <th>Hours_Studied</th>\n",
       "      <th>Test_Grade</th>\n",
       "    </tr>\n",
       "  </thead>\n",
       "  <tbody>\n",
       "    <tr>\n",
       "      <th>Hours_Studied</th>\n",
       "      <td>7.500</td>\n",
       "      <td>37.625000</td>\n",
       "    </tr>\n",
       "    <tr>\n",
       "      <th>Test_Grade</th>\n",
       "      <td>37.625</td>\n",
       "      <td>193.444444</td>\n",
       "    </tr>\n",
       "  </tbody>\n",
       "</table>\n",
       "</div>"
      ],
      "text/plain": [
       "               Hours_Studied  Test_Grade\n",
       "Hours_Studied          7.500   37.625000\n",
       "Test_Grade            37.625  193.444444"
      ]
     },
     "execution_count": 3,
     "metadata": {},
     "output_type": "execute_result"
    }
   ],
   "source": [
    "df.cov()"
   ]
  },
  {
   "cell_type": "markdown",
   "metadata": {},
   "source": [
    "#### Función corr()\n",
    "La correlación es otra forma de determinar cómo se relacionan dos variables. Además de mostrar si las variables están relacionadas positiva o inversamente, la correlación también indica el grado en que las variables tienden a moverse juntas. Cuando dice que dos elementos se correlacionan, está diciendo que el cambio en un elemento produce un cambio en otro. Siempre hablará de correlación como un rango entre -1 y 1."
   ]
  },
  {
   "cell_type": "code",
   "execution_count": 4,
   "metadata": {},
   "outputs": [
    {
     "data": {
      "text/html": [
       "<div>\n",
       "<style scoped>\n",
       "    .dataframe tbody tr th:only-of-type {\n",
       "        vertical-align: middle;\n",
       "    }\n",
       "\n",
       "    .dataframe tbody tr th {\n",
       "        vertical-align: top;\n",
       "    }\n",
       "\n",
       "    .dataframe thead th {\n",
       "        text-align: right;\n",
       "    }\n",
       "</style>\n",
       "<table border=\"1\" class=\"dataframe\">\n",
       "  <thead>\n",
       "    <tr style=\"text-align: right;\">\n",
       "      <th></th>\n",
       "      <th>Hours_Studied</th>\n",
       "      <th>Test_Grade</th>\n",
       "    </tr>\n",
       "  </thead>\n",
       "  <tbody>\n",
       "    <tr>\n",
       "      <th>Hours_Studied</th>\n",
       "      <td>1.000000</td>\n",
       "      <td>0.987797</td>\n",
       "    </tr>\n",
       "    <tr>\n",
       "      <th>Test_Grade</th>\n",
       "      <td>0.987797</td>\n",
       "      <td>1.000000</td>\n",
       "    </tr>\n",
       "  </tbody>\n",
       "</table>\n",
       "</div>"
      ],
      "text/plain": [
       "               Hours_Studied  Test_Grade\n",
       "Hours_Studied       1.000000    0.987797\n",
       "Test_Grade          0.987797    1.000000"
      ]
     },
     "execution_count": 4,
     "metadata": {},
     "output_type": "execute_result"
    }
   ],
   "source": [
    "df.corr()"
   ]
  },
  {
   "cell_type": "markdown",
   "metadata": {},
   "source": [
    "Para más información acerca de Pandas y sus funciones, puede revisar el [tutorial de Pandas](http://pandas.pydata.org/pandas-docs/stable/tutorials.html).\n",
    "\n",
    "### Matplotlib\n",
    "\n",
    "Matplotlib es una extensión matemática numérica de NumPy y un gran paquete para ver o presentar datos en un formato gráfico o pictórico"
   ]
  },
  {
   "cell_type": "code",
   "execution_count": 5,
   "metadata": {},
   "outputs": [],
   "source": [
    "#Importamos Pyplot de Matplotlib\n",
    "import matplotlib.pyplot as plt"
   ]
  },
  {
   "cell_type": "code",
   "execution_count": 6,
   "metadata": {},
   "outputs": [
    {
     "data": {
      "image/png": "[encoded data removed]",
      "text/plain": [
       "<Figure size 432x288 with 2 Axes>"
      ]
     },
     "metadata": {},
     "output_type": "display_data"
    }
   ],
   "source": [
    "#Graficamos aplicando directamente a un dataframe\n",
    "df.hist() #Historgrama\n",
    "plt.show();"
   ]
  },
  {
   "cell_type": "code",
   "execution_count": 7,
   "metadata": {},
   "outputs": [
    {
     "data": {
      "image/png": "[encoded data removed]",
      "text/plain": [
       "<Figure size 432x288 with 1 Axes>"
      ]
     },
     "metadata": {},
     "output_type": "display_data"
    }
   ],
   "source": [
    "df.plot(); #Gráfica de Líneas\n",
    "plt.title('Gráfica de Líneas');\n",
    "plt.show();"
   ]
  },
  {
   "cell_type": "code",
   "execution_count": 8,
   "metadata": {
    "scrolled": true
   },
   "outputs": [
    {
     "data": {
      "image/png": "[encoded data removed]",
      "text/plain": [
       "<Figure size 432x288 with 1 Axes>"
      ]
     },
     "metadata": {},
     "output_type": "display_data"
    }
   ],
   "source": [
    "#Personalizamos las gráficas\n",
    "df.plot(style='o', label= 'Precio de Ticket');\n",
    "plt.title('Edad vs Precio de Ticket');\n",
    "plt.xlabel('Edad');\n",
    "plt.ylabel('Precio');\n",
    "plt.figtext(0.995, 0.01, 'Datos de Alumnos', ha='right', va='bottom');\n",
    "plt.legend(loc='best', framealpha=0.5, prop={'size':'medium'});\n",
    "plt.show()"
   ]
  },
  {
   "cell_type": "markdown",
   "metadata": {},
   "source": [
    "\n",
    "### Matríz de correlación\n",
    "\n",
    "El siguiente código indica de forma gráfica la correlación entre las variables"
   ]
  },
  {
   "cell_type": "code",
   "execution_count": 9,
   "metadata": {},
   "outputs": [
    {
     "data": {
      "image/png": "[encoded data removed]",
      "text/plain": [
       "<Figure size 432x288 with 2 Axes>"
      ]
     },
     "metadata": {},
     "output_type": "display_data"
    }
   ],
   "source": [
    "corr=df.corr()  #Obtenemos la correlación\n",
    "import statsmodels.api as sm  #Importamos la biblioteca para graficar  \n",
    "sm.graphics.plot_corr(corr, xnames=list(corr.columns)) #Configuramos el nivel de correlación\n",
    "plt.show() #mostramos el gráfico"
   ]
  },
  {
   "cell_type": "code",
   "execution_count": 10,
   "metadata": {},
   "outputs": [
    {
     "data": {
      "image/png": "[encoded data removed]",
      "text/plain": [
       "<Figure size 720x720 with 4 Axes>"
      ]
     },
     "metadata": {},
     "output_type": "display_data"
    }
   ],
   "source": [
    "#Para visualizar las correlaciones de mejor manera, graficamos:\n",
    "from pandas.plotting import scatter_matrix \n",
    "scatter_matrix(df,figsize=(10,10));"
   ]
  },
  {
   "cell_type": "markdown",
   "metadata": {},
   "source": [
    "## Bibliotecas de Machine Learning\n",
    "\n",
    "Python tiene muchas librerias de Machine Learning, entre ellas destacan:\n",
    "1. Scikit-learn\n",
    "2. Pylearn2\n",
    "3. NuPIC\n",
    "4. Nilearn\n",
    "5. PyBrain\n",
    "6. Pattern\n",
    "7. Fuel\n",
    "8. Bob\n",
    "9. Skdata\n",
    "10. MILK\n",
    "\n",
    "Para este mini curso usaremos Scikit-learn, que está construido en base a SciPy.\n",
    "Un libro recomendado es [Python for Data Análisis](http://shop.oreilly.com/product/0636920050896.do)"
   ]
  }
 ],
 "metadata": {
  "kernelspec": {
   "display_name": "Python 3",
   "language": "python",
   "name": "python3"
  },
  "language_info": {
   "codemirror_mode": {
    "name": "ipython",
    "version": 3
   },
   "file_extension": ".py",
   "mimetype": "text/x-python",
   "name": "python",
   "nbconvert_exporter": "python",
   "pygments_lexer": "ipython3",
   "version": "3.6.5"
  }
 },
 "nbformat": 4,
 "nbformat_minor": 2
}
